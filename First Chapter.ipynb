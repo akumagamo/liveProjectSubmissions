{
 "cells": [
  {
   "cell_type": "code",
   "execution_count": 8,
   "metadata": {},
   "outputs": [
    {
     "name": "stdout",
     "output_type": "stream",
     "text": [
      "                                              headline countries  \\\n",
      "0               Zika New York City Outbreak Hits Miami       NaN   \n",
      "1                      Could Zika Reach New York City?       NaN   \n",
      "2                    First Case of Zika in Miami Beach       NaN   \n",
      "3              Mystery Virus Spreads in Recife, Brazil    Brazil   \n",
      "4              Dallas man comes down with case of Zika       NaN   \n",
      "..                                                 ...       ...   \n",
      "645  Rumors about Rabies spreading in Jerusalem hav...       NaN   \n",
      "646              More Zika patients reported in Indang       NaN   \n",
      "647  Suva authorities confirmed the spread of Rotav...       NaN   \n",
      "648         More Zika patients reported in Bella Vista       NaN   \n",
      "649                     Zika Outbreak in Wichita Falls       NaN   \n",
      "\n",
      "                   cities  \n",
      "0    New York City, Miami  \n",
      "1           New York City  \n",
      "2             Miami Beach  \n",
      "3                  Recife  \n",
      "4                  Dallas  \n",
      "..                    ...  \n",
      "645             Jerusalem  \n",
      "646                Indang  \n",
      "647                  Suva  \n",
      "648           Bella Vista  \n",
      "649         Wichita Falls  \n",
      "\n",
      "[650 rows x 3 columns]\n"
     ]
    }
   ],
   "source": [
    "#\n",
    "# New Version 2.0\n",
    "#\n",
    "\n",
    "import re\n",
    "import geonamescache\n",
    "import pandas as pd\n",
    "\n",
    "gc = geonamescache.GeonamesCache()\n",
    "\n",
    "countries = gc.get_countries_by_names().keys()\n",
    "\n",
    "def get_country(name):\n",
    "    return name in countries\n",
    "\n",
    "def create_city_name(wordlist):\n",
    "    return \" \".join(wordlist)\n",
    "\n",
    "f = open(\"headlines.txt\", \"r\")\n",
    "fileLines = f.readlines()\n",
    "\n",
    "headline_col = []\n",
    "country_col = []\n",
    "city_col = []\n",
    "\n",
    "for idx in range(len(fileLines)):\n",
    "    line = fileLines[idx]\n",
    "    headline_col.append(line.strip())\n",
    "    \n",
    "    relevantWords = re.findall(r\"([A-Z][^\\s.,'!?.-]+)\\s?\",line)\n",
    "    partialResult = []\n",
    "    city_names = []\n",
    "    country_names = []\n",
    "    while len(relevantWords) > 0 :\n",
    "        list0 = relevantWords[:]\n",
    "        while len(list0) > 0 :\n",
    "            helperText = create_city_name(list0).strip()\n",
    "            if gc.get_cities_by_name(helperText):\n",
    "                if not helperText in city_names :\n",
    "                    city_names.append(helperText)\n",
    "            if(get_country(helperText)):\n",
    "                country_names.append(helperText)\n",
    "            list0.pop()\n",
    "        relevantWords.pop(0)\n",
    "    city_names = list(filter( lambda i: len([x for x in city_names if i in x])==1 ,city_names))\n",
    "    city_col.append(\", \".join(city_names) if len(city_names) > 0 else \"NaN\"  )\n",
    "    country_col.append(\", \".join(country_names) if len(country_names) > 0 else \"NaN\" )\n",
    "    \n",
    "df = pd.DataFrame(data={'headline': headline_col, 'countries': country_col,  'cities': city_col})\n",
    "print(df)\n",
    "df.to_csv(r'solution.csv')"
   ]
  }
 ],
 "metadata": {
  "kernelspec": {
   "display_name": "Python 3",
   "language": "python",
   "name": "python3"
  },
  "language_info": {
   "codemirror_mode": {
    "name": "ipython",
    "version": 3
   },
   "file_extension": ".py",
   "mimetype": "text/x-python",
   "name": "python",
   "nbconvert_exporter": "python",
   "pygments_lexer": "ipython3",
   "version": "3.7.6"
  }
 },
 "nbformat": 4,
 "nbformat_minor": 4
}
